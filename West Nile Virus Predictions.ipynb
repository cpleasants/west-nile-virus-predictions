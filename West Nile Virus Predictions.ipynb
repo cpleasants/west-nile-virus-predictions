{
 "cells": [
  {
   "cell_type": "markdown",
   "metadata": {},
   "source": [
    "### Imports"
   ]
  },
  {
   "cell_type": "code",
   "execution_count": 1,
   "metadata": {
    "collapsed": true
   },
   "outputs": [],
   "source": [
    "import pandas as pd\n",
    "import matplotlib.pyplot as plt\n",
    "%matplotlib inline\n",
    "import seaborn as sns\n",
    "import numpy as np\n",
    "from matplotlib import cm\n",
    "import re\n",
    "from sklearn import preprocessing, tree, ensemble, linear_model, metrics, model_selection, svm\n",
    "import xgboost"
   ]
  },
  {
   "cell_type": "code",
   "execution_count": 2,
   "metadata": {
    "collapsed": true
   },
   "outputs": [],
   "source": [
    "spray = pd.read_csv('assets/spray.csv')\n",
    "weather = pd.read_csv('assets/weather.csv')\n",
    "test = pd.read_csv('assets/west-nile-test.csv')\n",
    "train = pd.read_csv('assets/west-nile-train.csv')"
   ]
  },
  {
   "cell_type": "code",
   "execution_count": 3,
   "metadata": {
    "collapsed": false
   },
   "outputs": [],
   "source": [
    "#dates should be in date-time format for easy wrangling\n",
    "for i in [spray, weather, test, train]:\n",
    "    i.Date = pd.to_datetime(i.Date, format='%Y-%m-%d')"
   ]
  },
  {
   "cell_type": "markdown",
   "metadata": {},
   "source": [
    "### Weather Data - cleaning and wrangling"
   ]
  },
  {
   "cell_type": "code",
   "execution_count": 4,
   "metadata": {
    "collapsed": false
   },
   "outputs": [],
   "source": [
    "#many variables are currently objects because they have things like \"M\" for missing. Must convert.\n",
    "to_numericize = ['Tavg', 'Depart', 'DewPoint', 'WetBulb', 'Heat', 'Cool', 'PrecipTotal',\n",
    "                 'StnPressure', 'SeaLevel', 'ResultSpeed', 'ResultDir', 'AvgSpeed']\n",
    "for col in to_numericize:\n",
    "    weather[col] = pd.to_numeric(weather[col], errors='coerce')"
   ]
  },
  {
   "cell_type": "code",
   "execution_count": 5,
   "metadata": {
    "collapsed": false
   },
   "outputs": [],
   "source": [
    "#for sunrise times and sunset times to be interpreted properly, converting to hours\n",
    "def twentyfour_hour_to_float(HHMM):\n",
    "    if HHMM == '-':\n",
    "        return np.NaN\n",
    "    else:\n",
    "        hour = float(HHMM[:2])\n",
    "        minute = float(HHMM[2:])\n",
    "        return hour + minute/60\n",
    "weather.Sunrise = weather.Sunrise.apply(twentyfour_hour_to_float)\n",
    "weather.Sunset = weather.Sunset.apply(twentyfour_hour_to_float)\n",
    "\n",
    "#calculate hours in day\n",
    "weather['hours_in_day'] = weather.Sunset - weather.Sunrise"
   ]
  },
  {
   "cell_type": "code",
   "execution_count": 6,
   "metadata": {
    "collapsed": false
   },
   "outputs": [],
   "source": [
    "#Depth, Water1, and SnowFall are all useless variables (all or almost all Nan).\n",
    "weather.drop(['Depth', 'Water1', 'SnowFall'], axis=1, inplace=True)"
   ]
  },
  {
   "cell_type": "code",
   "execution_count": 7,
   "metadata": {
    "collapsed": false
   },
   "outputs": [],
   "source": [
    "#functions to combine data from Station 1 and Station 2, where applicable\n",
    "def avg_wind_direction(S1, S2):\n",
    "    if S1 == np.NaN:\n",
    "        avg = float(S2)\n",
    "    elif S2 == np.NaN:\n",
    "        avg = float(S1)\n",
    "    elif np.abs(S1-S2) > 18:\n",
    "        if S1<S2:\n",
    "            S1+=36\n",
    "        else:\n",
    "            S2+=36\n",
    "        avg = (S1+S2)/2.0\n",
    "    else:\n",
    "        avg = (S1+S2)/2.0\n",
    "    if avg >=36:\n",
    "        avg-=36\n",
    "    return avg\n",
    "def combine_conditions(S1, S2):\n",
    "    if S1 == \" \" and S2 == \" \":\n",
    "        return \"\"\n",
    "    elif S1 == \" \" and S2 != \" \":\n",
    "        return S2\n",
    "    elif S1 != \" \" and S2 == \" \":\n",
    "        return S1\n",
    "    else:\n",
    "        S1_list = S1.split(\" \")\n",
    "        S2_list = S2.split(\" \")\n",
    "        return list(set(S1_list + S2_list))\n",
    "def avg_col(S1, S2):\n",
    "    if S1 == np.NaN:\n",
    "        avg = float(S2)\n",
    "    elif S2 == np.NaN:\n",
    "        avg = float(S1)\n",
    "    else: \n",
    "        avg=(S1+S2)/2.0\n",
    "    return avg"
   ]
  },
  {
   "cell_type": "code",
   "execution_count": 8,
   "metadata": {
    "collapsed": false
   },
   "outputs": [],
   "source": [
    "combined_weather = pd.DataFrame()\n",
    "\n",
    "s1 = weather[weather.Station==1]\n",
    "s2 = weather[weather.Station==1]\n",
    "\n",
    "#columns that only have data for Station 1 or the data are the same.\n",
    "for col in ['Date', 'Depart', 'Sunrise', 'Sunset', 'hours_in_day']:\n",
    "    combined_weather[col] = s1[col].values\n",
    "\n",
    "#application of averaging function\n",
    "for col in ['Tmax', 'Tmin', 'Tavg', 'DewPoint', 'WetBulb', 'Heat', 'Cool', 'StnPressure', 'SeaLevel', 'ResultSpeed', 'AvgSpeed']:\n",
    "    combined_weather[col] = [avg_col(a, b) for a, b in zip(s1[col].values, s2[col].values)]\n",
    "\n",
    "#application of unique functions\n",
    "combined_weather['ResultDir'] = [avg_wind_direction(a, b) for a, b in zip(s1.ResultDir.values, s2.ResultDir.values)]\n",
    "combined_weather['CodeSum'] = [combine_conditions(a, b) for a, b in zip(s1.CodeSum.values, s2.CodeSum.values)]\n",
    "\n",
    "#PrecipTotal for each station is too different -- keeping both\n",
    "combined_weather['PrecipTotal_station1'] = weather.PrecipTotal[weather.Station==1].values\n",
    "combined_weather['PrecipTotal_station2'] = weather.PrecipTotal[weather.Station==2].values"
   ]
  },
  {
   "cell_type": "code",
   "execution_count": 9,
   "metadata": {
    "collapsed": true
   },
   "outputs": [],
   "source": [
    "#Unable to accurately impute for PrecipTotals and too much missing, so starting by dropping those columns\n",
    "combined_weather.drop(['PrecipTotal_station1', 'PrecipTotal_station2'], axis=1, inplace=True)"
   ]
  },
  {
   "cell_type": "code",
   "execution_count": 10,
   "metadata": {
    "collapsed": false
   },
   "outputs": [
    {
     "name": "stderr",
     "output_type": "stream",
     "text": [
      "/anaconda/envs/py27/lib/python2.7/site-packages/ipykernel/__main__.py:11: UserWarning: Boolean Series key will be reindexed to match DataFrame index.\n",
      "/anaconda/envs/py27/lib/python2.7/site-packages/ipykernel/__main__.py:13: SettingWithCopyWarning: \n",
      "A value is trying to be set on a copy of a slice from a DataFrame\n",
      "\n",
      "See the caveats in the documentation: http://pandas.pydata.org/pandas-docs/stable/indexing.html#indexing-view-versus-copy\n",
      "/anaconda/envs/py27/lib/python2.7/site-packages/ipykernel/__main__.py:24: SettingWithCopyWarning: \n",
      "A value is trying to be set on a copy of a slice from a DataFrame\n",
      "\n",
      "See the caveats in the documentation: http://pandas.pydata.org/pandas-docs/stable/indexing.html#indexing-view-versus-copy\n"
     ]
    }
   ],
   "source": [
    "#impute missing data for.\n",
    "\n",
    "#WetBulb\n",
    "X = combined_weather.dropna().drop(['Date', 'WetBulb', 'CodeSum'], axis=1)\n",
    "y = combined_weather.dropna()['WetBulb']\n",
    "\n",
    "dt_WetBulb = ensemble.RandomForestRegressor(n_estimators=100)\n",
    "dt_WetBulb.fit(X, y)\n",
    "\n",
    "subset = combined_weather.columns.drop('WetBulb')\n",
    "predicted_WetBulb = dt_WetBulb.predict(combined_weather.dropna(subset=subset).drop(['Date', 'WetBulb', 'CodeSum'], axis=1)[combined_weather.WetBulb.isnull()])\n",
    "\n",
    "combined_weather.WetBulb[combined_weather.WetBulb.isnull()] = predicted_WetBulb\n",
    "\n",
    "#StnPressure\n",
    "X = combined_weather.dropna().drop(['Date', 'StnPressure', 'CodeSum'], axis=1)\n",
    "y = combined_weather.dropna(subset=subset)['StnPressure']\n",
    "\n",
    "xb_StnPressure = xgboost.XGBRegressor()\n",
    "xb_StnPressure.fit(X, y)\n",
    "\n",
    "predicted_StnPressure = xb_StnPressure.predict(combined_weather.drop(['Date', 'StnPressure', 'CodeSum'], axis=1)[combined_weather.StnPressure.isnull()])\n",
    "\n",
    "combined_weather.StnPressure[combined_weather.StnPressure.isnull()] = predicted_StnPressure"
   ]
  },
  {
   "cell_type": "markdown",
   "metadata": {},
   "source": [
    "### Train/Test Data - cleaning and wrangling"
   ]
  },
  {
   "cell_type": "code",
   "execution_count": 11,
   "metadata": {
    "collapsed": false
   },
   "outputs": [],
   "source": [
    "#pull out zip codes from address\n",
    "def find_zip(address):\n",
    "    if re.search('(?<=IL )[0-9]*', address):\n",
    "        return re.search('(?<=IL )[0-9]*', address).group(0)\n",
    "train['zip_code'] = train.Address.apply(find_zip)"
   ]
  },
  {
   "cell_type": "code",
   "execution_count": 12,
   "metadata": {
    "collapsed": false
   },
   "outputs": [],
   "source": [
    "# Address, Street, and AddressNumberAndStreet give essentially the same information as Trap, so they can be deleted\n",
    "train.drop(['Address', 'Street', 'AddressNumberAndStreet'], axis=1, inplace=True)"
   ]
  },
  {
   "cell_type": "code",
   "execution_count": 13,
   "metadata": {
    "collapsed": false
   },
   "outputs": [
    {
     "name": "stderr",
     "output_type": "stream",
     "text": [
      "/anaconda/envs/py27/lib/python2.7/site-packages/ipykernel/__main__.py:9: SettingWithCopyWarning: \n",
      "A value is trying to be set on a copy of a slice from a DataFrame\n",
      "\n",
      "See the caveats in the documentation: http://pandas.pydata.org/pandas-docs/stable/indexing.html#indexing-view-versus-copy\n"
     ]
    }
   ],
   "source": [
    "#impute missing zips\n",
    "X = train.dropna()[['Latitude', 'Longitude']]\n",
    "y = train.dropna()['zip_code']\n",
    "\n",
    "dtree_forzip = tree.DecisionTreeClassifier()\n",
    "dtree_forzip.fit(X, y)\n",
    "predicted_zip = dtree_forzip.predict(train[['Latitude', 'Longitude']][train.zip_code.isnull()])\n",
    "\n",
    "train.zip_code[train.zip_code.isnull()] = predicted_zip"
   ]
  },
  {
   "cell_type": "code",
   "execution_count": 14,
   "metadata": {
    "collapsed": false
   },
   "outputs": [],
   "source": [
    "# create columns for day of year, month, day of week:\n",
    "train['day_of_year'] = train.Date.dt.dayofyear\n",
    "train['month'] = train.Date.dt.month\n",
    "train['day_of week'] = train.Date.dt.dayofweek\n",
    "train['year'] = train.Date.dt.year"
   ]
  },
  {
   "cell_type": "code",
   "execution_count": 15,
   "metadata": {
    "collapsed": false,
    "scrolled": true
   },
   "outputs": [
    {
     "name": "stderr",
     "output_type": "stream",
     "text": [
      "/anaconda/envs/py27/lib/python2.7/site-packages/ipykernel/__main__.py:7: SettingWithCopyWarning: \n",
      "A value is trying to be set on a copy of a slice from a DataFrame\n",
      "\n",
      "See the caveats in the documentation: http://pandas.pydata.org/pandas-docs/stable/indexing.html#indexing-view-versus-copy\n"
     ]
    }
   ],
   "source": [
    "#repeat all with test data\n",
    "test['zip_code'] = test.Address.apply(find_zip)\n",
    "test.drop(['Address', 'Street', 'AddressNumberAndStreet'], axis=1, inplace=True)\n",
    "\n",
    "predicted_zip = dtree_forzip.predict(test[['Latitude', 'Longitude']][test.zip_code.isnull()])\n",
    "\n",
    "test.zip_code[test.zip_code.isnull()] = predicted_zip\n",
    "test['day_of_year'] = test.Date.dt.dayofyear\n",
    "test['month'] = test.Date.dt.month\n",
    "test['day_of week'] = test.Date.dt.dayofweek\n",
    "test['year'] = test.Date.dt.year"
   ]
  },
  {
   "cell_type": "code",
   "execution_count": 16,
   "metadata": {
    "collapsed": false
   },
   "outputs": [],
   "source": [
    "# putting various weights to the traps\n",
    "num_by_trap = pd.groupby(train[['Trap', 'NumMosquitos', 'WnvPresent']], 'Trap').agg('sum') \n",
    "num_by_trap['trap_percent_of_all_mosquitos'] = num_by_trap['NumMosquitos']/sum(num_by_trap.NumMosquitos)\n",
    "num_by_trap['trap_percent_with_wnv'] = num_by_trap.WnvPresent/num_by_trap.NumMosquitos\n",
    "num_by_trap.reset_index(inplace=True)\n",
    "\n",
    "map_mosq_weight = {t:v for t, v in zip(num_by_trap.Trap.values, num_by_trap['trap_percent_of_all_mosquitos'].values)}\n",
    "map_wnv_weight = {t:v for t, v in zip(num_by_trap.Trap.values, num_by_trap['trap_percent_with_wnv'].values)}\n",
    "\n",
    "map_wnv_weight2 = {}\n",
    "for trap in set(train.Trap):\n",
    "    map_wnv_weight2[trap] = sum(train.WnvPresent[train.Trap==trap]/sum(train.Trap==trap))\n",
    "map_wnv_weight2\n",
    "\n",
    "train['trap_percent_of_all_mosquitos'] = train.Trap.map(map_mosq_weight)\n",
    "train['trap_percent_with_wnv'] = train.Trap.map(map_wnv_weight)\n",
    "train['trap_percent_with_wnv2'] = train.Trap.map(map_wnv_weight2)"
   ]
  },
  {
   "cell_type": "code",
   "execution_count": 17,
   "metadata": {
    "collapsed": true
   },
   "outputs": [],
   "source": [
    "# Repeat on test data\n",
    "test['trap_percent_of_all_mosquitos'] = test.Trap.map(map_mosq_weight).fillna(0)\n",
    "test['trap_percent_with_wnv'] = test.Trap.map(map_wnv_weight).fillna(0)\n",
    "test['trap_percent_with_wnv2'] = test.Trap.map(map_wnv_weight2).fillna(0)"
   ]
  },
  {
   "cell_type": "markdown",
   "metadata": {},
   "source": [
    "### Merge"
   ]
  },
  {
   "cell_type": "code",
   "execution_count": 18,
   "metadata": {
    "collapsed": false
   },
   "outputs": [],
   "source": [
    "train_w = pd.merge(train, combined_weather, how='left', on='Date')\n",
    "test_w = pd.merge(test, combined_weather, how='left', on='Date')"
   ]
  },
  {
   "cell_type": "markdown",
   "metadata": {},
   "source": [
    "### Preprocessing"
   ]
  },
  {
   "cell_type": "code",
   "execution_count": 19,
   "metadata": {
    "collapsed": false
   },
   "outputs": [],
   "source": [
    "# Have to pre-process label-encoder on test set because test set has more traps and species.\n",
    "le_trap = preprocessing.LabelEncoder()\n",
    "test_w['Trap_num'] = le_trap.fit_transform(test_w.Trap)\n",
    "\n",
    "# le_species = preprocessing.LabelEncoder()\n",
    "# test_w['Species_num'] = le_species.fit_transform(test_w.Species)\n",
    "\n",
    "le_zip = preprocessing.LabelEncoder()\n",
    "test_w['zip_code_num'] = le_zip.fit_transform(test_w.zip_code)"
   ]
  },
  {
   "cell_type": "code",
   "execution_count": 20,
   "metadata": {
    "collapsed": false
   },
   "outputs": [],
   "source": [
    "#repeat with Train\n",
    "train_w['Trap_num'] = le_trap.transform(train_w.Trap)\n",
    "\n",
    "# train_w['Species_num'] = le_species.transform(train_w.Species)\n",
    "\n",
    "train_w['zip_code_num'] = le_zip.transform(train_w.zip_code)"
   ]
  },
  {
   "cell_type": "code",
   "execution_count": 21,
   "metadata": {
    "collapsed": false
   },
   "outputs": [],
   "source": [
    "# MultiLabelBinarizer on Codesum\n",
    "mlb = preprocessing.MultiLabelBinarizer()\n",
    "mlb_mat = mlb.fit_transform(test_w.CodeSum)\n",
    "mlb_df = pd.DataFrame(mlb_mat, columns=mlb.classes_)\n",
    "\n",
    "test_w = pd.concat([test_w, mlb_df], axis=1)"
   ]
  },
  {
   "cell_type": "code",
   "execution_count": 22,
   "metadata": {
    "collapsed": false
   },
   "outputs": [],
   "source": [
    "# repeat with test\n",
    "mlb = preprocessing.MultiLabelBinarizer()\n",
    "mlb_mat = mlb.fit_transform(train_w.CodeSum)\n",
    "mlb_df = pd.DataFrame(mlb_mat, columns=mlb.classes_)\n",
    "\n",
    "train_w = pd.concat([train_w, mlb_df], axis=1)"
   ]
  },
  {
   "cell_type": "markdown",
   "metadata": {},
   "source": [
    "## Model Selection"
   ]
  },
  {
   "cell_type": "code",
   "execution_count": 23,
   "metadata": {
    "collapsed": false
   },
   "outputs": [],
   "source": [
    "X = train_w.drop('Date Trap Species CodeSum NumMosquitos WnvPresent zip_code'.split(' '), axis=1)\n",
    "y = train_w.WnvPresent"
   ]
  },
  {
   "cell_type": "code",
   "execution_count": 24,
   "metadata": {
    "collapsed": true
   },
   "outputs": [],
   "source": [
    "X_train, X_test, y_train, y_test = model_selection.train_test_split(X, y, test_size=.3)"
   ]
  },
  {
   "cell_type": "code",
   "execution_count": 25,
   "metadata": {
    "collapsed": false
   },
   "outputs": [
    {
     "data": {
      "text/plain": [
       "0.68445280146581366"
      ]
     },
     "execution_count": 25,
     "metadata": {},
     "output_type": "execute_result"
    }
   ],
   "source": [
    "#Decision Tree\n",
    "dtree = tree.DecisionTreeClassifier()\n",
    "dtree.fit(X_train, y_train)\n",
    "predict = dtree.predict_proba(X_test)\n",
    "metrics.roc_auc_score(y_test, predict[:,1])"
   ]
  },
  {
   "cell_type": "code",
   "execution_count": 26,
   "metadata": {
    "collapsed": false
   },
   "outputs": [
    {
     "data": {
      "text/plain": [
       "0.79218775441342926"
      ]
     },
     "execution_count": 26,
     "metadata": {},
     "output_type": "execute_result"
    }
   ],
   "source": [
    "#Random Forrest\n",
    "clf = ensemble.RandomForestClassifier(n_jobs=-1, n_estimators=100)\n",
    "clf.fit(X_train, y_train)\n",
    "predict = clf.predict_proba(X_test)\n",
    "metrics.roc_auc_score(y_test, predict[:,1])"
   ]
  },
  {
   "cell_type": "code",
   "execution_count": 27,
   "metadata": {
    "collapsed": false
   },
   "outputs": [
    {
     "data": {
      "text/plain": [
       "0.85447404713281583"
      ]
     },
     "execution_count": 27,
     "metadata": {},
     "output_type": "execute_result"
    }
   ],
   "source": [
    "#AdaBoost\n",
    "ada = ensemble.AdaBoostClassifier(n_estimators=100)\n",
    "ada.fit(X_train, y_train)\n",
    "\n",
    "predict = ada.predict_proba(X_test)\n",
    "metrics.roc_auc_score(y_test, predict[:,1])"
   ]
  },
  {
   "cell_type": "code",
   "execution_count": 28,
   "metadata": {
    "collapsed": false
   },
   "outputs": [
    {
     "data": {
      "text/plain": [
       "0.86737053973410538"
      ]
     },
     "execution_count": 28,
     "metadata": {},
     "output_type": "execute_result"
    }
   ],
   "source": [
    "#XGBoost\n",
    "xgb = xgboost.XGBClassifier(n_estimators=100)\n",
    "xgb.fit(X_train, y_train)\n",
    "\n",
    "predict = xgb.predict_proba(X_test)\n",
    "metrics.roc_auc_score(y_test, predict[:,1])"
   ]
  },
  {
   "cell_type": "code",
   "execution_count": 29,
   "metadata": {
    "collapsed": false
   },
   "outputs": [
    {
     "data": {
      "text/plain": [
       "0.68445280146581366"
      ]
     },
     "execution_count": 29,
     "metadata": {},
     "output_type": "execute_result"
    }
   ],
   "source": [
    "#Extra Trees\n",
    "et = tree.ExtraTreeClassifier()\n",
    "et.fit(X_train, y_train)\n",
    "predict = dtree.predict_proba(X_test)\n",
    "metrics.roc_auc_score(y_test, predict[:,1])"
   ]
  },
  {
   "cell_type": "code",
   "execution_count": 30,
   "metadata": {
    "collapsed": false
   },
   "outputs": [
    {
     "data": {
      "text/html": [
       "<div>\n",
       "<table border=\"1\" class=\"dataframe\">\n",
       "  <thead>\n",
       "    <tr style=\"text-align: right;\">\n",
       "      <th></th>\n",
       "      <th>0</th>\n",
       "    </tr>\n",
       "  </thead>\n",
       "  <tbody>\n",
       "    <tr>\n",
       "      <th>day_of_year</th>\n",
       "      <td>0.186688</td>\n",
       "    </tr>\n",
       "    <tr>\n",
       "      <th>trap_percent_with_wnv2</th>\n",
       "      <td>0.137987</td>\n",
       "    </tr>\n",
       "    <tr>\n",
       "      <th>year</th>\n",
       "      <td>0.071429</td>\n",
       "    </tr>\n",
       "    <tr>\n",
       "      <th>trap_percent_of_all_mosquitos</th>\n",
       "      <td>0.069805</td>\n",
       "    </tr>\n",
       "    <tr>\n",
       "      <th>Longitude</th>\n",
       "      <td>0.068182</td>\n",
       "    </tr>\n",
       "    <tr>\n",
       "      <th>AvgSpeed</th>\n",
       "      <td>0.056818</td>\n",
       "    </tr>\n",
       "    <tr>\n",
       "      <th>trap_percent_with_wnv</th>\n",
       "      <td>0.042208</td>\n",
       "    </tr>\n",
       "    <tr>\n",
       "      <th>ResultDir</th>\n",
       "      <td>0.034091</td>\n",
       "    </tr>\n",
       "    <tr>\n",
       "      <th>Latitude</th>\n",
       "      <td>0.034091</td>\n",
       "    </tr>\n",
       "    <tr>\n",
       "      <th>Tmax</th>\n",
       "      <td>0.034091</td>\n",
       "    </tr>\n",
       "    <tr>\n",
       "      <th>Trap_num</th>\n",
       "      <td>0.032468</td>\n",
       "    </tr>\n",
       "    <tr>\n",
       "      <th>ResultSpeed</th>\n",
       "      <td>0.032468</td>\n",
       "    </tr>\n",
       "    <tr>\n",
       "      <th>Tavg</th>\n",
       "      <td>0.027597</td>\n",
       "    </tr>\n",
       "    <tr>\n",
       "      <th>DewPoint</th>\n",
       "      <td>0.024351</td>\n",
       "    </tr>\n",
       "    <tr>\n",
       "      <th>Depart</th>\n",
       "      <td>0.024351</td>\n",
       "    </tr>\n",
       "    <tr>\n",
       "      <th>StnPressure</th>\n",
       "      <td>0.021104</td>\n",
       "    </tr>\n",
       "    <tr>\n",
       "      <th>Block</th>\n",
       "      <td>0.017857</td>\n",
       "    </tr>\n",
       "    <tr>\n",
       "      <th>TS</th>\n",
       "      <td>0.014610</td>\n",
       "    </tr>\n",
       "    <tr>\n",
       "      <th>zip_code_num</th>\n",
       "      <td>0.014610</td>\n",
       "    </tr>\n",
       "    <tr>\n",
       "      <th>Tmin</th>\n",
       "      <td>0.012987</td>\n",
       "    </tr>\n",
       "    <tr>\n",
       "      <th>day_of week</th>\n",
       "      <td>0.011364</td>\n",
       "    </tr>\n",
       "    <tr>\n",
       "      <th>TSRA</th>\n",
       "      <td>0.009740</td>\n",
       "    </tr>\n",
       "    <tr>\n",
       "      <th>SeaLevel</th>\n",
       "      <td>0.008117</td>\n",
       "    </tr>\n",
       "    <tr>\n",
       "      <th>RA</th>\n",
       "      <td>0.006494</td>\n",
       "    </tr>\n",
       "    <tr>\n",
       "      <th>WetBulb</th>\n",
       "      <td>0.004870</td>\n",
       "    </tr>\n",
       "    <tr>\n",
       "      <th>AddressAccuracy</th>\n",
       "      <td>0.001623</td>\n",
       "    </tr>\n",
       "    <tr>\n",
       "      <th>month</th>\n",
       "      <td>0.000000</td>\n",
       "    </tr>\n",
       "    <tr>\n",
       "      <th>hours_in_day</th>\n",
       "      <td>0.000000</td>\n",
       "    </tr>\n",
       "    <tr>\n",
       "      <th>Sunrise</th>\n",
       "      <td>0.000000</td>\n",
       "    </tr>\n",
       "    <tr>\n",
       "      <th>BR</th>\n",
       "      <td>0.000000</td>\n",
       "    </tr>\n",
       "    <tr>\n",
       "      <th>DZ</th>\n",
       "      <td>0.000000</td>\n",
       "    </tr>\n",
       "    <tr>\n",
       "      <th>FG</th>\n",
       "      <td>0.000000</td>\n",
       "    </tr>\n",
       "    <tr>\n",
       "      <th>HZ</th>\n",
       "      <td>0.000000</td>\n",
       "    </tr>\n",
       "    <tr>\n",
       "      <th>Sunset</th>\n",
       "      <td>0.000000</td>\n",
       "    </tr>\n",
       "    <tr>\n",
       "      <th>Cool</th>\n",
       "      <td>0.000000</td>\n",
       "    </tr>\n",
       "    <tr>\n",
       "      <th>Heat</th>\n",
       "      <td>0.000000</td>\n",
       "    </tr>\n",
       "    <tr>\n",
       "      <th>VCTS</th>\n",
       "      <td>0.000000</td>\n",
       "    </tr>\n",
       "  </tbody>\n",
       "</table>\n",
       "</div>"
      ],
      "text/plain": [
       "                                      0\n",
       "day_of_year                    0.186688\n",
       "trap_percent_with_wnv2         0.137987\n",
       "year                           0.071429\n",
       "trap_percent_of_all_mosquitos  0.069805\n",
       "Longitude                      0.068182\n",
       "AvgSpeed                       0.056818\n",
       "trap_percent_with_wnv          0.042208\n",
       "ResultDir                      0.034091\n",
       "Latitude                       0.034091\n",
       "Tmax                           0.034091\n",
       "Trap_num                       0.032468\n",
       "ResultSpeed                    0.032468\n",
       "Tavg                           0.027597\n",
       "DewPoint                       0.024351\n",
       "Depart                         0.024351\n",
       "StnPressure                    0.021104\n",
       "Block                          0.017857\n",
       "TS                             0.014610\n",
       "zip_code_num                   0.014610\n",
       "Tmin                           0.012987\n",
       "day_of week                    0.011364\n",
       "TSRA                           0.009740\n",
       "SeaLevel                       0.008117\n",
       "RA                             0.006494\n",
       "WetBulb                        0.004870\n",
       "AddressAccuracy                0.001623\n",
       "month                          0.000000\n",
       "hours_in_day                   0.000000\n",
       "Sunrise                        0.000000\n",
       "BR                             0.000000\n",
       "DZ                             0.000000\n",
       "FG                             0.000000\n",
       "HZ                             0.000000\n",
       "Sunset                         0.000000\n",
       "Cool                           0.000000\n",
       "Heat                           0.000000\n",
       "VCTS                           0.000000"
      ]
     },
     "execution_count": 30,
     "metadata": {},
     "output_type": "execute_result"
    }
   ],
   "source": [
    "pd.DataFrame(xgb.feature_importances_, index=X.columns).sort_values(by=0, ascending=False)"
   ]
  },
  {
   "cell_type": "code",
   "execution_count": 31,
   "metadata": {
    "collapsed": false
   },
   "outputs": [
    {
     "name": "stdout",
     "output_type": "stream",
     "text": [
      "clf 0.781715738843 +/- 0.027867372367\n",
      "ada 0.848534930529 +/- 0.0153815646951\n",
      "xgb 0.857952012558 +/- 0.0196446463475\n",
      "et 0.676269206515 +/- 0.0175921600514\n"
     ]
    }
   ],
   "source": [
    "#Cross-validated scores\n",
    "cv = model_selection.StratifiedKFold(shuffle=True, n_splits=5)\n",
    "for model, name in zip([clf, ada, xgb, et], ['clf', 'ada', 'xgb', 'et']):\n",
    "    score = model_selection.cross_val_score(model, X, y, cv=cv, scoring='roc_auc')\n",
    "    print name, score.mean(), '+/-', score.std()"
   ]
  },
  {
   "cell_type": "code",
   "execution_count": 32,
   "metadata": {
    "collapsed": false
   },
   "outputs": [
    {
     "name": "stdout",
     "output_type": "stream",
     "text": [
      "score: 0.839272191693 +/- 0.0136219346401\n"
     ]
    }
   ],
   "source": [
    "#Grid-Search to find best parameters\n",
    "cv = model_selection.StratifiedKFold(shuffle=True, n_splits=5)\n",
    "xg_best = model_selection.GridSearchCV(xgboost.XGBClassifier(), param_grid={\n",
    "        'max_depth':[3,4,5,6, 7],\n",
    "        'learning_rate':[.04, .06, .08, .1, .12, .14, .16],\n",
    "    },scoring='roc_auc', cv=cv)\n",
    "xg_best.fit(X, y).best_params_\n",
    "\n",
    "# cv = model_selection.StratifiedKFold(shuffle=True, n_splits=5)\n",
    "xg_best = xgboost.XGBRegressor(learning_rate=0.14, max_depth=3)\n",
    "score = model_selection.cross_val_score(xg_best, X, y, cv=cv, scoring='roc_auc')\n",
    "print 'score:',score.mean(),\"+/-\",score.std()"
   ]
  },
  {
   "cell_type": "markdown",
   "metadata": {
    "collapsed": false
   },
   "source": [
    "Didn't perform any better, so we will keep with the simple model. "
   ]
  },
  {
   "cell_type": "code",
   "execution_count": 33,
   "metadata": {
    "collapsed": false,
    "scrolled": true
   },
   "outputs": [
    {
     "data": {
      "text/plain": [
       "0.8564905960670568"
      ]
     },
     "execution_count": 33,
     "metadata": {},
     "output_type": "execute_result"
    }
   ],
   "source": [
    "cv = model_selection.StratifiedKFold(shuffle=True, n_splits=5)\n",
    "predict = model_selection.cross_val_predict(xgboost.XGBClassifier(), X, y, cv=cv, method='predict_proba')\n",
    "predictions = model_selection.cross_val_predict(xgboost.XGBClassifier(), X, y, cv=cv)\n",
    "metrics.roc_auc_score(y, predict[:,1])"
   ]
  },
  {
   "cell_type": "code",
   "execution_count": 34,
   "metadata": {
    "collapsed": false
   },
   "outputs": [
    {
     "name": "stdout",
     "output_type": "stream",
     "text": [
      "AUC: 0.854760396375\n"
     ]
    },
    {
     "data": {
      "text/plain": [
       "<matplotlib.legend.Legend at 0x10f667e10>"
      ]
     },
     "execution_count": 34,
     "metadata": {},
     "output_type": "execute_result"
    },
    {
     "data": {
      "image/png": "[encoded data removed]",
      "text/plain": [
       "<matplotlib.figure.Figure at 0x10fcfb490>"
      ]
     },
     "metadata": {},
     "output_type": "display_data"
    }
   ],
   "source": [
    "predict = model_selection.cross_val_predict(xgboost.XGBClassifier(), X, y, cv=cv, method='predict_proba')\n",
    "y_score = predict[:,1]\n",
    "fpr, tpr, thresholds = metrics.roc_curve(y, y_score)\n",
    "print 'AUC:', metrics.auc(fpr, tpr)\n",
    "\n",
    "plt.plot(fpr, tpr, label='AUC: {:.2}'.format(metrics.auc(fpr, tpr)))\n",
    "plt.xlabel('FPR')\n",
    "plt.ylabel('TPR')\n",
    "plt.title('ROC Curve for Cross-Validated Model')\n",
    "plt.plot([0, 1], [0, 1], 'k--')\n",
    "plt.legend(loc='lower right')"
   ]
  },
  {
   "cell_type": "markdown",
   "metadata": {},
   "source": [
    "## Threshold Manipulation\n",
    "Because the threshold must be set very low to pick up on a significant number of traps with west nile virus, I have set certain True Positive Rate thresholds to explore further."
   ]
  },
  {
   "cell_type": "code",
   "execution_count": 35,
   "metadata": {
    "collapsed": false
   },
   "outputs": [],
   "source": [
    "# thresholds for TPR of 80%, 85%, 90%, 95%, and 100%\n",
    "thresh = [[th for t, f, th in zip(tpr, fpr, thresholds) if t >= i][0] for i in [.8, .85, .9, .95, 1]]"
   ]
  },
  {
   "cell_type": "code",
   "execution_count": 36,
   "metadata": {
    "collapsed": false
   },
   "outputs": [
    {
     "name": "stdout",
     "output_type": "stream",
     "text": [
      "threshold: 0.0557148\n",
      "             precision    recall  f1-score   support\n",
      "\n",
      "          0       0.99      0.75      0.85      9955\n",
      "          1       0.15      0.80      0.25       551\n",
      "\n",
      "avg / total       0.94      0.75      0.82     10506\n",
      "\n",
      "\n",
      "threshold: 0.0413744\n",
      "             precision    recall  f1-score   support\n",
      "\n",
      "          0       0.99      0.69      0.81      9955\n",
      "          1       0.13      0.85      0.23       551\n",
      "\n",
      "avg / total       0.94      0.69      0.78     10506\n",
      "\n",
      "\n",
      "threshold: 0.0301775\n",
      "             precision    recall  f1-score   support\n",
      "\n",
      "          0       0.99      0.62      0.76      9955\n",
      "          1       0.11      0.90      0.20       551\n",
      "\n",
      "avg / total       0.95      0.63      0.73     10506\n",
      "\n",
      "\n",
      "threshold: 0.019512\n",
      "             precision    recall  f1-score   support\n",
      "\n",
      "          0       0.99      0.53      0.69      9955\n",
      "          1       0.10      0.95      0.18       551\n",
      "\n",
      "avg / total       0.95      0.55      0.66     10506\n",
      "\n",
      "\n",
      "threshold: 0.00113097\n",
      "             precision    recall  f1-score   support\n",
      "\n",
      "          0       1.00      0.15      0.26      9955\n",
      "          1       0.06      1.00      0.11       551\n",
      "\n",
      "avg / total       0.95      0.19      0.25     10506\n",
      "\n",
      "\n"
     ]
    }
   ],
   "source": [
    "# Print classification reports for each threshold corresponding to the TPRs above.\n",
    "for i in thresh:\n",
    "    predictions = [1 if p >= i else 0 for p in y_score]\n",
    "    print 'threshold:', i\n",
    "    print metrics.classification_report(y, predictions)\n",
    "    print ''"
   ]
  },
  {
   "cell_type": "code",
   "execution_count": 37,
   "metadata": {
    "collapsed": false
   },
   "outputs": [
    {
     "name": "stdout",
     "output_type": "stream",
     "text": [
      "threshold: 0.0557148\n",
      "[[7446 2509]\n",
      " [ 110  441]]\n",
      "\n",
      "threshold: 0.0413744\n",
      "[[6832 3123]\n",
      " [  82  469]]\n",
      "\n",
      "threshold: 0.0301775\n",
      "[[6134 3821]\n",
      " [  55  496]]\n",
      "\n",
      "threshold: 0.019512\n",
      "[[5255 4700]\n",
      " [  27  524]]\n",
      "\n",
      "threshold: 0.00113097\n",
      "[[1464 8491]\n",
      " [   0  551]]\n",
      "\n"
     ]
    }
   ],
   "source": [
    "# Print confusion matrix for each threshold corresponding to the TPRs above.\n",
    "for i in thresh:\n",
    "    predictions = [1 if p >= i else 0 for p in y_score]\n",
    "    print 'threshold:', i\n",
    "    print metrics.confusion_matrix(y, predictions)\n",
    "    print ''"
   ]
  },
  {
   "cell_type": "code",
   "execution_count": 38,
   "metadata": {
    "collapsed": false
   },
   "outputs": [
    {
     "name": "stdout",
     "output_type": "stream",
     "text": [
      "944500\n",
      "864250\n",
      "773625\n",
      "660250\n",
      "183000\n"
     ]
    }
   ],
   "source": [
    "# Print average yearly savings associated with each threshold, based on an assumed $500 per test\n",
    "for i in thresh:\n",
    "    p = [1 if p >= i else 0 for p in y_score]\n",
    "    print (metrics.confusion_matrix(y, p)[0,0] + metrics.confusion_matrix(y, p)[1,0])*500/4"
   ]
  },
  {
   "cell_type": "code",
   "execution_count": 40,
   "metadata": {
    "collapsed": false
   },
   "outputs": [
    {
     "data": {
      "text/plain": [
       "<matplotlib.text.Text at 0x115fe5fd0>"
      ]
     },
     "execution_count": 40,
     "metadata": {},
     "output_type": "execute_result"
    },
    {
     "data": {
      "image/png": "[encoded data removed]",
      "text/plain": [
       "<matplotlib.figure.Figure at 0x11025be10>"
      ]
     },
     "metadata": {},
     "output_type": "display_data"
    }
   ],
   "source": [
    "# Graphing savings at each TPR rate\n",
    "recall = [.8, .85, .9, .95, 1]\n",
    "savings = [944500, 864250, 773625, 660250, 183000]\n",
    "plt.plot(recall, savings)\n",
    "plt.title(\"Average Yearly Savings at Various Thresholds\")"
   ]
  },
  {
   "cell_type": "markdown",
   "metadata": {},
   "source": [
    "### Kaggle Submission"
   ]
  },
  {
   "cell_type": "code",
   "execution_count": 42,
   "metadata": {
    "collapsed": false
   },
   "outputs": [],
   "source": [
    "X = train_w.drop('Date Trap Species CodeSum NumMosquitos WnvPresent zip_code VCTS FG'.split(' '), axis=1)\n",
    "y = train_w.WnvPresent\n",
    "X_testset = test_w.drop('Date Trap Species CodeSum zip_code Id BCFG FG+'.split(' '), axis=1)\n",
    "xgb.fit(X, y)\n",
    "FINAL = xgb.predict_proba(X_testset)[:,1]"
   ]
  },
  {
   "cell_type": "code",
   "execution_count": 43,
   "metadata": {
    "collapsed": true
   },
   "outputs": [],
   "source": [
    "sample = pd.read_csv('assets/sampleSubmission.csv', index_col='Id')"
   ]
  },
  {
   "cell_type": "code",
   "execution_count": 44,
   "metadata": {
    "collapsed": false
   },
   "outputs": [],
   "source": [
    "sample.WnvPresent = FINAL"
   ]
  },
  {
   "cell_type": "code",
   "execution_count": 45,
   "metadata": {
    "collapsed": false
   },
   "outputs": [],
   "source": [
    "sample.to_csv('assets/testSubmission.csv')"
   ]
  }
 ],
 "metadata": {
  "anaconda-cloud": {},
  "kernelspec": {
   "display_name": "Python [conda env:py27]",
   "language": "python",
   "name": "conda-env-py27-py"
  },
  "language_info": {
   "codemirror_mode": {
    "name": "ipython",
    "version": 2
   },
   "file_extension": ".py",
   "mimetype": "text/x-python",
   "name": "python",
   "nbconvert_exporter": "python",
   "pygments_lexer": "ipython2",
   "version": "2.7.12"
  }
 },
 "nbformat": 4,
 "nbformat_minor": 1
}
